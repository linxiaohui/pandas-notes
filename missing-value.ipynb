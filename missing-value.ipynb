{
 "cells": [
  {
   "cell_type": "markdown",
   "id": "8fe07437",
   "metadata": {},
   "source": [
    "本`notebook`主要用来总结与**缺失值**相关的知识点"
   ]
  },
  {
   "cell_type": "markdown",
   "id": "1e1907ff",
   "metadata": {},
   "source": [
    "# 判断缺失值"
   ]
  },
  {
   "cell_type": "code",
   "execution_count": null,
   "id": "fb564199",
   "metadata": {},
   "outputs": [],
   "source": [
    "isna"
   ]
  },
  {
   "cell_type": "code",
   "execution_count": null,
   "id": "496d0273",
   "metadata": {},
   "outputs": [],
   "source": [
    "hasnans"
   ]
  },
  {
   "cell_type": "code",
   "execution_count": null,
   "id": "ae68cea9",
   "metadata": {},
   "outputs": [],
   "source": [
    "notna"
   ]
  },
  {
   "cell_type": "code",
   "execution_count": null,
   "id": "8d45c6f9",
   "metadata": {},
   "outputs": [],
   "source": []
  },
  {
   "cell_type": "markdown",
   "id": "a7349f55",
   "metadata": {},
   "source": [
    "# 运算符与特殊函数"
   ]
  },
  {
   "cell_type": "code",
   "execution_count": null,
   "id": "7c50bd85",
   "metadata": {},
   "outputs": [],
   "source": [
    ".sub(fill_value=)"
   ]
  },
  {
   "cell_type": "code",
   "execution_count": null,
   "id": "ca511aeb",
   "metadata": {},
   "outputs": [],
   "source": []
  },
  {
   "cell_type": "markdown",
   "id": "901a4680",
   "metadata": {},
   "source": [
    "# count"
   ]
  },
  {
   "cell_type": "markdown",
   "id": "99516ae0",
   "metadata": {},
   "source": [
    "统计非空值的个数"
   ]
  },
  {
   "cell_type": "code",
   "execution_count": null,
   "id": "1fab1a66",
   "metadata": {},
   "outputs": [],
   "source": []
  }
 ],
 "metadata": {
  "kernelspec": {
   "display_name": "Python 3 (ipykernel)",
   "language": "python",
   "name": "python3"
  },
  "language_info": {
   "codemirror_mode": {
    "name": "ipython",
    "version": 3
   },
   "file_extension": ".py",
   "mimetype": "text/x-python",
   "name": "python",
   "nbconvert_exporter": "python",
   "pygments_lexer": "ipython3",
   "version": "3.8.3"
  },
  "toc": {
   "base_numbering": 1,
   "nav_menu": {},
   "number_sections": true,
   "sideBar": true,
   "skip_h1_title": false,
   "title_cell": "Table of Contents",
   "title_sidebar": "Contents",
   "toc_cell": false,
   "toc_position": {},
   "toc_section_display": true,
   "toc_window_display": false
  }
 },
 "nbformat": 4,
 "nbformat_minor": 5
}

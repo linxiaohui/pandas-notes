{
 "cells": [
  {
   "cell_type": "markdown",
   "id": "d888b143",
   "metadata": {},
   "source": [
    "本`notebook`主要关于数据类型有关的知识点。包括：\n",
    "   * 类型之间的转化\n",
    "   * 关于类型的筛选"
   ]
  },
  {
   "cell_type": "code",
   "execution_count": 2,
   "id": "f463a980",
   "metadata": {},
   "outputs": [],
   "source": [
    "import pandas as pd"
   ]
  },
  {
   "cell_type": "markdown",
   "id": "0fb9991c",
   "metadata": {},
   "source": [
    "# Series"
   ]
  },
  {
   "cell_type": "markdown",
   "id": "9e4ac6c7",
   "metadata": {},
   "source": [
    "## 转换为元组列表\n",
    "如何将一个Series转化为一个元组的列表"
   ]
  },
  {
   "cell_type": "code",
   "execution_count": null,
   "id": "c5cd87c9",
   "metadata": {},
   "outputs": [],
   "source": [
    "list(s.items())"
   ]
  },
  {
   "cell_type": "markdown",
   "id": "b6ecdba7",
   "metadata": {},
   "source": [
    "## 转换为字典"
   ]
  },
  {
   "cell_type": "code",
   "execution_count": null,
   "id": "6e6b40aa",
   "metadata": {},
   "outputs": [],
   "source": [
    "s.to_dict()"
   ]
  },
  {
   "cell_type": "markdown",
   "id": "fba5a555",
   "metadata": {},
   "source": [
    "## 字典与元组列表之间的转换"
   ]
  },
  {
   "cell_type": "code",
   "execution_count": null,
   "id": "37a207a7",
   "metadata": {},
   "outputs": [],
   "source": [
    "x = list(d.items())"
   ]
  },
  {
   "cell_type": "code",
   "execution_count": null,
   "id": "f92220f2",
   "metadata": {},
   "outputs": [],
   "source": [
    "dict(x)"
   ]
  },
  {
   "cell_type": "markdown",
   "id": "4dc3c80a",
   "metadata": {},
   "source": [
    "# 筛选"
   ]
  },
  {
   "cell_type": "markdown",
   "id": "6e0838ca",
   "metadata": {},
   "source": [
    "## 按数据类型选择列"
   ]
  },
  {
   "cell_type": "code",
   "execution_count": null,
   "id": "abb5699a",
   "metadata": {},
   "outputs": [],
   "source": [
    "df.select_dtypes(np.number)"
   ]
  },
  {
   "cell_type": "markdown",
   "id": "7509118a",
   "metadata": {},
   "source": [
    "## 按类型排除列"
   ]
  },
  {
   "cell_type": "code",
   "execution_count": null,
   "id": "d2893350",
   "metadata": {},
   "outputs": [],
   "source": [
    "df.select_dtypes(exclude=np.number)"
   ]
  },
  {
   "cell_type": "markdown",
   "id": "bb0c3caa",
   "metadata": {},
   "source": [
    "# 读取数据"
   ]
  },
  {
   "cell_type": "markdown",
   "id": "2860ed62",
   "metadata": {},
   "source": [
    "如果整数列中有空值，pandas会将其转换为 `float64`"
   ]
  },
  {
   "cell_type": "markdown",
   "id": "b56225a4",
   "metadata": {},
   "source": [
    "# numpy数据类型"
   ]
  },
  {
   "cell_type": "code",
   "execution_count": null,
   "id": "27b9484e",
   "metadata": {},
   "outputs": [],
   "source": [
    "import numpy as np"
   ]
  },
  {
   "cell_type": "markdown",
   "id": "f8ac9ce6",
   "metadata": {},
   "source": [
    "## 整数"
   ]
  },
  {
   "cell_type": "code",
   "execution_count": null,
   "id": "f1220b75",
   "metadata": {},
   "outputs": [],
   "source": [
    "np.iinfo(np.int32)"
   ]
  },
  {
   "cell_type": "markdown",
   "id": "bee7901a",
   "metadata": {},
   "source": [
    "## 4.2 浮点数"
   ]
  },
  {
   "cell_type": "code",
   "execution_count": null,
   "id": "97a77c6f",
   "metadata": {},
   "outputs": [],
   "source": [
    "np.finfo(np.float64)"
   ]
  },
  {
   "cell_type": "markdown",
   "id": "217deae6",
   "metadata": {},
   "source": [
    "# 内存占用"
   ]
  },
  {
   "cell_type": "markdown",
   "id": "2c9bea14",
   "metadata": {},
   "source": [
    "## 查看内存占用"
   ]
  },
  {
   "cell_type": "code",
   "execution_count": null,
   "id": "c76c0533",
   "metadata": {},
   "outputs": [],
   "source": [
    "#memory_usage()"
   ]
  },
  {
   "cell_type": "markdown",
   "id": "eec8df10",
   "metadata": {},
   "source": [
    "## category"
   ]
  },
  {
   "cell_type": "code",
   "execution_count": null,
   "id": "023c3c2a",
   "metadata": {},
   "outputs": [],
   "source": []
  },
  {
   "cell_type": "markdown",
   "id": "9b57f685",
   "metadata": {},
   "source": [
    "# 时间日期相关"
   ]
  },
  {
   "cell_type": "code",
   "execution_count": null,
   "id": "1a277331",
   "metadata": {},
   "outputs": [],
   "source": []
  }
 ],
 "metadata": {
  "kernelspec": {
   "display_name": "Python 3 (ipykernel)",
   "language": "python",
   "name": "python3"
  },
  "language_info": {
   "codemirror_mode": {
    "name": "ipython",
    "version": 3
   },
   "file_extension": ".py",
   "mimetype": "text/x-python",
   "name": "python",
   "nbconvert_exporter": "python",
   "pygments_lexer": "ipython3",
   "version": "3.8.3"
  },
  "toc": {
   "base_numbering": 1,
   "nav_menu": {},
   "number_sections": true,
   "sideBar": true,
   "skip_h1_title": false,
   "title_cell": "Table of Contents",
   "title_sidebar": "Contents",
   "toc_cell": false,
   "toc_position": {
    "height": "calc(100% - 180px)",
    "left": "10px",
    "top": "150px",
    "width": "256px"
   },
   "toc_section_display": true,
   "toc_window_display": true
  }
 },
 "nbformat": 4,
 "nbformat_minor": 5
}

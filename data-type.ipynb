{
 "cells": [
  {
   "cell_type": "markdown",
   "id": "f29bfdad",
   "metadata": {},
   "source": [
    "本`notebook`主要关于数据类型有关的知识点。包括：\n",
    "   * 类型之间的转化\n",
    "   * 关于类型的筛选"
   ]
  },
  {
   "cell_type": "markdown",
   "id": "f6a1d469",
   "metadata": {},
   "source": [
    "# Series"
   ]
  },
  {
   "cell_type": "markdown",
   "id": "ef9fa6a6",
   "metadata": {},
   "source": [
    "## 转换为元组列表\n",
    "如何将一个Series转化为一个元组的列表"
   ]
  },
  {
   "cell_type": "code",
   "execution_count": null,
   "id": "ea305738",
   "metadata": {},
   "outputs": [],
   "source": [
    "list(s.items())"
   ]
  },
  {
   "cell_type": "markdown",
   "id": "82bbb8c3",
   "metadata": {},
   "source": [
    "## 转换为字典"
   ]
  },
  {
   "cell_type": "code",
   "execution_count": null,
   "id": "43c123a1",
   "metadata": {},
   "outputs": [],
   "source": [
    "s.to_dict()"
   ]
  },
  {
   "cell_type": "markdown",
   "id": "129c43b6",
   "metadata": {},
   "source": [
    "## 字典与元组列表之间的转换"
   ]
  },
  {
   "cell_type": "code",
   "execution_count": null,
   "id": "599ad56f",
   "metadata": {},
   "outputs": [],
   "source": [
    "x = list(d.items())"
   ]
  },
  {
   "cell_type": "code",
   "execution_count": null,
   "id": "63736607",
   "metadata": {},
   "outputs": [],
   "source": [
    "dict(x)"
   ]
  },
  {
   "cell_type": "markdown",
   "id": "7d9db859",
   "metadata": {},
   "source": [
    "# 筛选"
   ]
  },
  {
   "cell_type": "markdown",
   "id": "a3307469",
   "metadata": {},
   "source": [
    "## 按数据类型选择列"
   ]
  },
  {
   "cell_type": "code",
   "execution_count": null,
   "id": "ceb68ccf",
   "metadata": {},
   "outputs": [],
   "source": [
    "df.select_dtypes(np.number)"
   ]
  },
  {
   "cell_type": "markdown",
   "id": "72fac6d5",
   "metadata": {},
   "source": [
    "## 按类型排除列"
   ]
  },
  {
   "cell_type": "code",
   "execution_count": null,
   "id": "33af9a9b",
   "metadata": {},
   "outputs": [],
   "source": [
    "df.select_dtypes(exclude=np.number)"
   ]
  },
  {
   "cell_type": "code",
   "execution_count": null,
   "id": "b34d0d87",
   "metadata": {},
   "outputs": [],
   "source": []
  }
 ],
 "metadata": {
  "kernelspec": {
   "display_name": "Python 3 (ipykernel)",
   "language": "python",
   "name": "python3"
  },
  "language_info": {
   "codemirror_mode": {
    "name": "ipython",
    "version": 3
   },
   "file_extension": ".py",
   "mimetype": "text/x-python",
   "name": "python",
   "nbconvert_exporter": "python",
   "pygments_lexer": "ipython3",
   "version": "3.8.3"
  },
  "toc": {
   "base_numbering": 1,
   "nav_menu": {},
   "number_sections": true,
   "sideBar": true,
   "skip_h1_title": false,
   "title_cell": "Table of Contents",
   "title_sidebar": "Contents",
   "toc_cell": false,
   "toc_position": {},
   "toc_section_display": true,
   "toc_window_display": true
  }
 },
 "nbformat": 4,
 "nbformat_minor": 5
}

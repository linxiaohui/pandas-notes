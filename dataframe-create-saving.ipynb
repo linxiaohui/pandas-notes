{
 "cells": [
  {
   "cell_type": "markdown",
   "id": "7e1d7533",
   "metadata": {},
   "source": [
    "本`notebook`主要聚焦于`DataFrame`的创建和保存相关的知识点"
   ]
  },
  {
   "cell_type": "markdown",
   "id": "18049ffe",
   "metadata": {},
   "source": [
    "# 保存Excel格式"
   ]
  },
  {
   "cell_type": "code",
   "execution_count": null,
   "id": "2ab1cea7",
   "metadata": {},
   "outputs": [],
   "source": []
  }
 ],
 "metadata": {
  "kernelspec": {
   "display_name": "Python 3 (ipykernel)",
   "language": "python",
   "name": "python3"
  },
  "language_info": {
   "codemirror_mode": {
    "name": "ipython",
    "version": 3
   },
   "file_extension": ".py",
   "mimetype": "text/x-python",
   "name": "python",
   "nbconvert_exporter": "python",
   "pygments_lexer": "ipython3",
   "version": "3.8.3"
  },
  "toc": {
   "base_numbering": 1,
   "nav_menu": {},
   "number_sections": true,
   "sideBar": true,
   "skip_h1_title": false,
   "title_cell": "Table of Contents",
   "title_sidebar": "Contents",
   "toc_cell": false,
   "toc_position": {},
   "toc_section_display": true,
   "toc_window_display": false
  }
 },
 "nbformat": 4,
 "nbformat_minor": 5
}

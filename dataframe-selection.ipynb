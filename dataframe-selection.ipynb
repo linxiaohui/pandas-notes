{
 "cells": [
  {
   "cell_type": "markdown",
   "id": "7b8caa4e",
   "metadata": {},
   "source": [
    "本`notebook`主要聚焦于与`DataFrame`的筛选有关的知识点"
   ]
  },
  {
   "cell_type": "markdown",
   "id": "148d91b8",
   "metadata": {},
   "source": [
    "# filter"
   ]
  },
  {
   "cell_type": "markdown",
   "id": "cf8c82ec",
   "metadata": {},
   "source": [
    "## items\n",
    "`items`与`loc`类似，**区别**是参数中如果有不存在的列，不会抛出`KeyError`异常"
   ]
  },
  {
   "cell_type": "code",
   "execution_count": null,
   "id": "ff1c615d",
   "metadata": {},
   "outputs": [],
   "source": []
  },
  {
   "cell_type": "markdown",
   "id": "43ff4930",
   "metadata": {},
   "source": [
    "## like"
   ]
  },
  {
   "cell_type": "code",
   "execution_count": null,
   "id": "b8e16434",
   "metadata": {},
   "outputs": [],
   "source": []
  },
  {
   "cell_type": "markdown",
   "id": "69909b71",
   "metadata": {},
   "source": [
    "## regex"
   ]
  },
  {
   "cell_type": "code",
   "execution_count": null,
   "id": "2d19a0e2",
   "metadata": {},
   "outputs": [],
   "source": []
  },
  {
   "cell_type": "markdown",
   "id": "49ef26d8",
   "metadata": {},
   "source": [
    "# 按类型删选"
   ]
  },
  {
   "cell_type": "code",
   "execution_count": null,
   "id": "3d64f707",
   "metadata": {},
   "outputs": [],
   "source": []
  },
  {
   "cell_type": "markdown",
   "id": "9b5e914b",
   "metadata": {},
   "source": [
    "**参考**: 微信读书《Pandas 1.X Cookbook》P，第二章第三节`Selecting columns with methods`中关于类型的总结"
   ]
  },
  {
   "cell_type": "code",
   "execution_count": null,
   "id": "1ddbc2a0",
   "metadata": {},
   "outputs": [],
   "source": []
  }
 ],
 "metadata": {
  "kernelspec": {
   "display_name": "Python 3 (ipykernel)",
   "language": "python",
   "name": "python3"
  },
  "language_info": {
   "codemirror_mode": {
    "name": "ipython",
    "version": 3
   },
   "file_extension": ".py",
   "mimetype": "text/x-python",
   "name": "python",
   "nbconvert_exporter": "python",
   "pygments_lexer": "ipython3",
   "version": "3.8.3"
  },
  "toc": {
   "base_numbering": 1,
   "nav_menu": {},
   "number_sections": true,
   "sideBar": true,
   "skip_h1_title": false,
   "title_cell": "Table of Contents",
   "title_sidebar": "Contents",
   "toc_cell": false,
   "toc_position": {},
   "toc_section_display": true,
   "toc_window_display": false
  }
 },
 "nbformat": 4,
 "nbformat_minor": 5
}
